{
  "metadata": {
    "language_info": {
      "codemirror_mode": {
        "name": "python",
        "version": 3
      },
      "file_extension": ".py",
      "mimetype": "text/x-python",
      "name": "python",
      "nbconvert_exporter": "python",
      "pygments_lexer": "ipython3",
      "version": "3.8"
    },
    "kernelspec": {
      "name": "python",
      "display_name": "Pyolite",
      "language": "python"
    }
  },
  "nbformat_minor": 4,
  "nbformat": 4,
  "cells": [
    {
      "cell_type": "markdown",
      "source": "<h1>My Jupyter Notebook on IBM Watson Studio<h1>",
      "metadata": {}
    },
    {
      "cell_type": "markdown",
      "source": "<b> Anu Abraham</b>\n  \n  \n  System Technician",
      "metadata": {}
    },
    {
      "cell_type": "markdown",
      "source": "<i>I am interested in data science because I like to work in new and updating areas of technology.<i>",
      "metadata": {}
    },
    {
      "cell_type": "markdown",
      "source": "<h3>On next line I am going to put values for three variables and do arithmetic operations in that variables and printing the output.<h3>",
      "metadata": {}
    },
    {
      "cell_type": "code",
      "source": "a=2\nb=5\nc=3\nprint(a+b*c)",
      "metadata": {
        "trusted": true
      },
      "execution_count": 2,
      "outputs": [
        {
          "name": "stdout",
          "text": "17\n",
          "output_type": "stream"
        }
      ]
    },
    {
      "cell_type": "markdown",
      "source": "|roll #| name| mark|\n|------|-----|-----|\n|1| Emma|7|\n|2|Sarah|8|\n|3|Andria|6| \n|4|Sam|9|\n\n\n<u>rank<u>\n   <ol>\n        <li>Sam</li>\n        <li>Sarah</li>\n        <li>Emma</li>\n        <li>Andria</li>\n    </ol>\n",
      "metadata": {}
    },
    {
      "cell_type": "code",
      "source": "",
      "metadata": {},
      "execution_count": null,
      "outputs": []
    },
    {
      "cell_type": "code",
      "source": "",
      "metadata": {},
      "execution_count": null,
      "outputs": []
    }
  ]
}